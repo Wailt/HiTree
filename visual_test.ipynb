{
 "cells": [
  {
   "cell_type": "code",
   "execution_count": 19,
   "metadata": {
    "collapsed": false
   },
   "outputs": [],
   "source": [
    "import numpy.random as npr\n",
    "from hierarchy_tree import ClusterTree"
   ]
  },
  {
   "cell_type": "code",
   "execution_count": 20,
   "metadata": {
    "collapsed": true
   },
   "outputs": [],
   "source": [
    "tree = ClusterTree(sim_level = 0.20)"
   ]
  },
  {
   "cell_type": "code",
   "execution_count": 21,
   "metadata": {
    "collapsed": false
   },
   "outputs": [],
   "source": [
    "events = [{str(i): str(npr.randint(0,1))+'v' for i in range(30) if npr.randint(0,2)} for j in range(10)]"
   ]
  },
  {
   "cell_type": "code",
   "execution_count": 22,
   "metadata": {
    "collapsed": false
   },
   "outputs": [],
   "source": [
    "for event in events:\n",
    "    tree.update(event)"
   ]
  },
  {
   "cell_type": "code",
   "execution_count": 23,
   "metadata": {
    "collapsed": false
   },
   "outputs": [
    {
     "name": "stdout",
     "output_type": "stream",
     "text": [
      "['root']:deep = 0,count:1,\n",
      "\t['24$0v', '17$0v']:deep = 1,count:1,\n",
      "\t\t['2$0v', '19$0v', '12$0v']:deep = 2,count:1,\n",
      "\t\t\t['11$0v', '29$0v', '7$0v', '3$0v']:deep = 3,count:1,\n",
      "\t\t\t\t['23$0v', '14$0v', '27$0v', '15$0v', '18$0v']:deep = 4,count:1,\n",
      "\t['0$0v']:deep = 1,count:1,\n",
      "\t\t['13$0v']:deep = 2,count:1,\n",
      "\t\t\t['29$0v', '22$0v', '20$0v', '21$0v', '17$0v', '27$0v', '7$0v']:deep = 3,count:1,\n",
      "\t\t\t['11$0v', '15$0v']:deep = 3,count:1,\n",
      "\t\t\t\t['16$0v', '7$0v', '24$0v', '25$0v', '26$0v', '19$0v', '22$0v', '8$0v', '5$0v', '6$0v', '3$0v', '10$0v', '4$0v', '14$0v']:deep = 4,count:1,\n",
      "\t['23$0v', '22$0v', '20$0v', '26$0v', '15$0v', '7$0v', '1$0v', '8$0v', '5$0v', '3$0v', '11$0v', '21$0v', '12$0v', '4$0v', '25$0v']:deep = 1,count:1,\n"
     ]
    }
   ],
   "source": [
    "print tree"
   ]
  },
  {
   "cell_type": "code",
   "execution_count": 24,
   "metadata": {
    "collapsed": false
   },
   "outputs": [
    {
     "data": {
      "text/plain": [
       "('depth: ', 3, 'width: ', 4)"
      ]
     },
     "execution_count": 24,
     "metadata": {},
     "output_type": "execute_result"
    }
   ],
   "source": [
    "tree.stats()"
   ]
  },
  {
   "cell_type": "code",
   "execution_count": 25,
   "metadata": {
    "collapsed": false
   },
   "outputs": [
    {
     "name": "stdout",
     "output_type": "stream",
     "text": [
      "children: 3; deep: 0,\n",
      "\tchildren: 1; deep: 1,\n",
      "\t\tchildren: 1; deep: 2,\n",
      "\t\t\tchildren: 1; deep: 3,\n",
      "\t\t\t\tchildren: 0; deep: 4,\n",
      "\tchildren: 1; deep: 1,\n",
      "\t\tchildren: 2; deep: 2,\n",
      "\t\t\tchildren: 0; deep: 3,\n",
      "\t\t\tchildren: 1; deep: 3,\n",
      "\t\t\t\tchildren: 0; deep: 4,\n",
      "\tchildren: 0; deep: 1,\n"
     ]
    }
   ],
   "source": [
    "print(tree.counts())"
   ]
  },
  {
   "cell_type": "code",
   "execution_count": 26,
   "metadata": {
    "collapsed": false
   },
   "outputs": [
    {
     "name": "stdout",
     "output_type": "stream",
     "text": [
      "['root']:deep = 0,count:1,\n",
      "\t['24$0v', '17$0v']:deep = 1,count:1,\n",
      "\t\t['2$0v', '19$0v', '12$0v']:deep = 2,count:1,\n",
      "\t\t\t['11$0v', '29$0v', '7$0v', '3$0v']:deep = 3,count:1,\n",
      "\t\t\t\t['23$0v', '14$0v', '27$0v', '15$0v', '18$0v']:deep = 4,count:1,\n",
      "\t['0$0v']:deep = 1,count:1,\n",
      "\t\t['13$0v']:deep = 2,count:1,\n",
      "\t\t\t['29$0v', '22$0v', '20$0v', '21$0v', '17$0v', '27$0v', '7$0v']:deep = 3,count:1,\n",
      "\t\t\t['11$0v', '15$0v']:deep = 3,count:1,\n",
      "\t\t\t\t['16$0v', '7$0v', '24$0v', '25$0v', '26$0v', '19$0v', '22$0v', '8$0v', '5$0v', '6$0v', '3$0v', '10$0v', '4$0v', '14$0v']:deep = 4,count:1,\n",
      "\t['23$0v', '22$0v', '20$0v', '26$0v', '15$0v', '7$0v', '1$0v', '8$0v', '5$0v', '3$0v', '11$0v', '21$0v', '12$0v', '4$0v', '25$0v']:deep = 1,count:1,\n"
     ]
    }
   ],
   "source": [
    "print tree"
   ]
  },
  {
   "cell_type": "code",
   "execution_count": null,
   "metadata": {
    "collapsed": true
   },
   "outputs": [],
   "source": []
  },
  {
   "cell_type": "code",
   "execution_count": null,
   "metadata": {
    "collapsed": true
   },
   "outputs": [],
   "source": []
  }
 ],
 "metadata": {
  "kernelspec": {
   "display_name": "Python 2",
   "language": "python",
   "name": "python2"
  },
  "language_info": {
   "codemirror_mode": {
    "name": "ipython",
    "version": 2
   },
   "file_extension": ".py",
   "mimetype": "text/x-python",
   "name": "python",
   "nbconvert_exporter": "python",
   "pygments_lexer": "ipython2",
   "version": "2.7.13"
  }
 },
 "nbformat": 4,
 "nbformat_minor": 1
}
